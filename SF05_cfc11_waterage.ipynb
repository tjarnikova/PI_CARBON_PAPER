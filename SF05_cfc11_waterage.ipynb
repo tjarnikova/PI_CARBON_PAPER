{
 "cells": [
  {
   "cell_type": "code",
   "execution_count": 11,
   "metadata": {},
   "outputs": [
    {
     "name": "stdout",
     "output_type": "stream",
     "text": [
      "Once deleted, variables cannot be recovered. Proceed (y/[n])? y\n"
     ]
    }
   ],
   "source": [
    "%reset"
   ]
  },
  {
   "cell_type": "code",
   "execution_count": 12,
   "metadata": {},
   "outputs": [
    {
     "data": {
      "text/html": [
       "<script>\n",
       "code_show=true; \n",
       "function code_toggle() {\n",
       " if (code_show){\n",
       " $('div.input').hide();\n",
       " } else {\n",
       " $('div.input').show();\n",
       " }\n",
       " code_show = !code_show\n",
       "} \n",
       "$( document ).ready(code_toggle);\n",
       "</script>\n",
       "<form action=\"javascript:code_toggle()\"><input type=\"submit\" value=\"Click here to toggle on/off the raw code.\"></form>"
      ],
      "text/plain": [
       "<IPython.core.display.HTML object>"
      ]
     },
     "execution_count": 12,
     "metadata": {},
     "output_type": "execute_result"
    }
   ],
   "source": [
    "from IPython.display import HTML\n",
    "\n",
    "HTML('''<script>\n",
    "code_show=true; \n",
    "function code_toggle() {\n",
    " if (code_show){\n",
    " $('div.input').hide();\n",
    " } else {\n",
    " $('div.input').show();\n",
    " }\n",
    " code_show = !code_show\n",
    "} \n",
    "$( document ).ready(code_toggle);\n",
    "</script>\n",
    "<form action=\"javascript:code_toggle()\"><input type=\"submit\" value=\"Click here to toggle on/off the raw code.\"></form>''')"
   ]
  },
  {
   "cell_type": "code",
   "execution_count": 13,
   "metadata": {},
   "outputs": [],
   "source": [
    "from __future__ import print_function\n",
    "from numpy import *\n",
    "from scipy import *\n",
    "\n",
    "import matplotlib\n",
    "import matplotlib.pyplot as plt\n",
    "#from matplotlib import reload\n",
    "import matplotlib.patches as patches\n",
    "\n",
    "import netCDF4 as nc\n",
    "import numpy as np\n",
    "import scipy as sp\n",
    "\n",
    "import seawater\n",
    "import datetime as dt\n",
    "\"\"\n",
    "from salishsea_tools import (\n",
    "    nc_tools,\n",
    "    viz_tools,\n",
    "    geo_tools,\n",
    "    tidetools\n",
    ")\n",
    "\n",
    "# matplotlib.use('Agg')\n",
    "# plt.style.use('seaborn-whitegrid')\n",
    "import cmocean as cm\n",
    "import glob\n",
    "import sys\n",
    "sys.path.append('/data/tjarniko/mocsy')\n",
    "sys.path.append('/data/tjarniko/MEOPAR/at3/notebooks/carbon_dev/CCCmaDEV/CCCma_src')\n",
    "import mocsy\n",
    "import CCCma\n",
    "import CCCma_stations as cs\n",
    "\n",
    "from scipy import optimize\n",
    "import arrow\n",
    "import gsw\n",
    "import pandas as pd\n",
    "import xarray as xr\n",
    "%matplotlib inline"
   ]
  },
  {
   "cell_type": "code",
   "execution_count": 14,
   "metadata": {},
   "outputs": [],
   "source": [
    "infil=  pd.read_csv('./Datasets/P01_with_age.csv')"
   ]
  },
  {
   "cell_type": "code",
   "execution_count": null,
   "metadata": {},
   "outputs": [],
   "source": []
  },
  {
   "cell_type": "code",
   "execution_count": 15,
   "metadata": {},
   "outputs": [],
   "source": [
    "t_lats = infil['latitude']\n",
    "t_latval = (t_lats.values)\n",
    "t_lons = infil['longitude']\n",
    "t_lonval = (t_lons.values)"
   ]
  },
  {
   "cell_type": "markdown",
   "metadata": {},
   "source": [
    "# Visualise cruise points"
   ]
  },
  {
   "cell_type": "code",
   "execution_count": 16,
   "metadata": {},
   "outputs": [
    {
     "data": {
      "image/png": "[encoded data removed]",
      "text/plain": [
       "<Figure size 432x288 with 1 Axes>"
      ]
     },
     "metadata": {},
     "output_type": "display_data"
    }
   ],
   "source": [
    "from mpl_toolkits.basemap import Basemap\n",
    "import numpy as np\n",
    "import matplotlib.pyplot as plt\n",
    "# create new figure, axes instances.\n",
    "fig=plt.figure()\n",
    "ax=fig.add_axes([0.1,0.1,0.8,0.8])\n",
    "# setup mercator map projection.\n",
    "m = Basemap(llcrnrlon=-180.,llcrnrlat=20.,urcrnrlon=-120.,urcrnrlat=60.,\\\n",
    "            rsphere=(6378137.00,6356752.3142),\\\n",
    "            resolution='l',projection='merc',\\\n",
    "            lat_0=40.,lon_0=-20.,lat_ts=20.)\n",
    "\n",
    "\n",
    "lonlat = t_latval; lonlon = t_lonval\n",
    "\n",
    "m.drawcoastlines()\n",
    "m.fillcontinents()\n",
    "# draw parallels\n",
    "m.drawparallels(np.arange(10,90,20),labels=[1,1,0,1])\n",
    "# draw meridians\n",
    "m.drawmeridians(np.arange(-180,180,30),labels=[1,1,0,1])\n",
    "x,y = m(lonlon, lonlat)\n",
    "m.plot(x, y, 'bo', markersize=5)\n",
    "#m.plot(lonlon, lonlat, color = 'k')\n",
    "plt.show()"
   ]
  },
  {
   "cell_type": "code",
   "execution_count": 17,
   "metadata": {},
   "outputs": [],
   "source": [
    "list(infil.columns.values)\n",
    "\n",
    "sigthet = infil['sigma_theta']\n",
    "fre_11 = infil['freon_11_age']\n",
    "fre_12 = infil['freon_12_age']\n",
    "long = infil['longitude']\n",
    "sigthet_nearby = sigthet[(long>-145) & (long<0)]\n",
    "fre_11_nearby = fre_11[(long>-145) & (long<0)]\n",
    "fre_12_nearby = fre_12[(long>-145) & (long<0)]\n",
    "# plt.plot(sigthet,fre_11,'r*', label = 'all data - freon 11 ')\n",
    "# plt.plot(sigthet_nearby,fre_11_nearby,'b*', label = 'long > - 145, - freon 11 ')\n",
    "# plt.plot(sigthet,fre_12,'ro', label = 'all data - freon 12 ')\n",
    "# plt.plot(sigthet_nearby,fre_12_nearby,'bo', label = 'long > - 145, - freon 12 ')\n",
    "\n",
    "# plt.legend(bbox_to_anchor=[0.5, 1])\n",
    "# plt.title('Freon 11 age vs sigma theta')"
   ]
  },
  {
   "cell_type": "code",
   "execution_count": 18,
   "metadata": {},
   "outputs": [],
   "source": [
    "# plt.plot(sigthet,fre_11,'r*', label = 'all data - freon 11 ')\n",
    "# plt.plot(sigthet_nearby,fre_11_nearby,'b*', label = 'long > - 145, - freon 11 ')\n",
    "# plt.plot(sigthet,fre_12,'ro', label = 'all data - freon 12 ')\n",
    "# plt.plot(sigthet_nearby,fre_12_nearby,'bo', label = 'long > - 145, - freon 12 ')\n",
    "\n",
    "# plt.legend(bbox_to_anchor=[0.5, 1])\n",
    "# plt.xlim([24.0,27])\n",
    "# plt.ylim([0,250])\n",
    "# plt.title('Freon 11 age vs sigma theta')"
   ]
  },
  {
   "cell_type": "code",
   "execution_count": 19,
   "metadata": {},
   "outputs": [],
   "source": [
    "# #plt.plot(sigthet,fre_11,'r*', label = 'all data - freon 11 ')\n",
    "# plt.plot(sigthet_nearby,fre_11_nearby,'b*', label = 'long > - 145, - freon 11 ')\n",
    "# #plt.plot(sigthet,fre_12,'ro', label = 'all data - freon 12 ')\n",
    "# plt.plot(sigthet_nearby,fre_12_nearby,'bo', label = 'long > - 145, - freon 12 ')\n",
    "\n",
    "# plt.legend(bbox_to_anchor=[0.5, 1])\n",
    "# plt.xlim([24.0,27])\n",
    "# plt.ylim([0,250])\n",
    "# plt.title('Freon age vs sigma theta')"
   ]
  },
  {
   "cell_type": "code",
   "execution_count": 20,
   "metadata": {},
   "outputs": [],
   "source": [
    "sigthet_120_125 = sigthet[(long>-125) & (long<-120)]\n",
    "fre_11_120_125 = fre_11[(long>-125) & (long<-120)]\n",
    "fre_12_120_125 = fre_12[(long>-125) & (long<-120)]\n",
    "\n",
    "sigthet_125_130 = sigthet[(long>-130) & (long<-125)]\n",
    "fre_11_125_130 = fre_11[(long>-130) & (long<-125)]\n",
    "fre_12_125_130 = fre_12[(long>-130) & (long<-125)]\n",
    "\n",
    "sigthet_130_135 = sigthet[(long>-135) & (long<-130)]\n",
    "fre_11_130_135 = fre_11[(long>-135) & (long<-130)]\n",
    "fre_12_130_135 = fre_12[(long>-135) & (long<-130)]\n",
    "\n",
    "sigthet_135_140 = sigthet[(long>-140) & (long<-135)]\n",
    "fre_11_135_140 = fre_11[(long>-140) & (long<-135)]\n",
    "fre_12_135_140 = fre_12[(long>-140) & (long<-135)]\n",
    "\n",
    "\n",
    "# plt.plot(sigthet_120_125,fre_11_120_125,'k*', label = '(long>-125) & (long<-120), - freon 11 ')\n",
    "# plt.plot(sigthet_125_130,fre_11_125_130,'b*', label = '(long>-130) & (long<-125), - freon 11 ')\n",
    "# plt.plot(sigthet_130_135,fre_11_130_135,'r*', label = '(long>-135) & (long<-130), - freon 11 ')\n",
    "# plt.plot(sigthet_135_140,fre_11_135_140,'g*', label = '(long>-140) & (long<-135), - freon 11 ')\n",
    "# plt.legend(bbox_to_anchor = [0.7, 1])"
   ]
  },
  {
   "cell_type": "code",
   "execution_count": 21,
   "metadata": {},
   "outputs": [],
   "source": [
    "# plt.plot(sigthet_120_125,fre_12_120_125,'k*', label = '(long>-125) & (long<-120), - freon 11 ')\n",
    "# plt.plot(sigthet_125_130,fre_12_125_130,'b*', label = '(long>-130) & (long<-125), - freon 11 ')\n",
    "# plt.plot(sigthet_130_135,fre_12_130_135,'r*', label = '(long>-135) & (long<-130), - freon 11 ')\n",
    "# plt.plot(sigthet_135_140,fre_12_135_140,'g*', label = '(long>-140) & (long<-135), - freon 11 ')\n"
   ]
  },
  {
   "cell_type": "code",
   "execution_count": 22,
   "metadata": {},
   "outputs": [],
   "source": [
    "sigthet_120_125 = sigthet[(long>-125) & (long<-120) & (sigthet <27)]\n",
    "fre_11_120_125 = fre_11[(long>-125) & (long<-120) & (sigthet <27)]\n",
    "fre_12_120_125 = fre_12[(long>-125) & (long<-120) & (sigthet <27)]\n",
    "\n",
    "sigthet_125_130 = sigthet[(long>-130) & (long<-125) & (sigthet <27)]\n",
    "fre_11_125_130 = fre_11[(long>-130) & (long<-125) & (sigthet <27)]\n",
    "fre_12_125_130 = fre_12[(long>-130) & (long<-125) & (sigthet <27)]\n",
    "\n",
    "sigthet_130_135 = sigthet[(long>-135) & (long<-130) & (sigthet <27)]\n",
    "fre_11_130_135 = fre_11[(long>-135) & (long<-130) & (sigthet <27)]\n",
    "fre_12_130_135 = fre_12[(long>-135) & (long<-130) & (sigthet <27)]\n",
    "\n",
    "sigthet_135_140 = sigthet[(long>-140) & (long<-135) & (sigthet <27)]\n",
    "fre_11_135_140 = fre_11[(long>-140) & (long<-135) & (sigthet <27)]\n",
    "fre_12_135_140 = fre_12[(long>-140) & (long<-135) & (sigthet <27)]"
   ]
  },
  {
   "cell_type": "code",
   "execution_count": 23,
   "metadata": {},
   "outputs": [],
   "source": [
    "# plt.plot(sigthet_120_125,fre_11_120_125,'k*', label = '(long>-125) & (long<-120), - freon 11 ')\n",
    "# plt.plot(sigthet_125_130,fre_11_125_130,'b*', label = '(long>-130) & (long<-125), - freon 11 ')\n",
    "# plt.plot(sigthet_130_135,fre_11_130_135,'r*', label = '(long>-135) & (long<-130), - freon 11 ')\n",
    "# plt.plot(sigthet_135_140,fre_11_135_140,'g*', label = '(long>-140) & (long<-135), - freon 11 ')\n",
    "# plt.legend()\n",
    "# plt.title('age vs freon 11 ages')"
   ]
  },
  {
   "cell_type": "code",
   "execution_count": 24,
   "metadata": {},
   "outputs": [],
   "source": [
    "# plt.plot(sigthet_125_130,fre_11_125_130,'b*', label = '(long>-130) & (long<-125), - freon 11 ')\n",
    "# plt.plot(sigthet_125_130,fre_12_125_130,'r*', label = '(long>-130) & (long<-125), - freon 11 ')\n"
   ]
  },
  {
   "cell_type": "code",
   "execution_count": 25,
   "metadata": {},
   "outputs": [],
   "source": [
    "fre_12_125_130_nn = fre_12_125_130[~isnan(fre_11_125_130) & ~isnan(sigthet_125_130) & ~isnan(fre_12_125_130) ]\n",
    "fre_11_125_130_nn = fre_11_125_130[~isnan(fre_11_125_130) & ~isnan(sigthet_125_130) & ~isnan(fre_12_125_130) ]\n",
    "sigthet_125_130_nn = sigthet_125_130[~isnan(fre_11_125_130) & ~isnan(sigthet_125_130) & ~isnan(fre_12_125_130)]"
   ]
  },
  {
   "cell_type": "code",
   "execution_count": 26,
   "metadata": {},
   "outputs": [
    {
     "name": "stdout",
     "output_type": "stream",
     "text": [
      "0.10751130798750012\n",
      "4.009517044643506\n",
      "9.854515608368056\n",
      "0.14147556690680096\n",
      "3.885986927128071\n",
      "6.576131233528212\n"
     ]
    }
   ],
   "source": [
    "def test_func(x, a, b, c):\n",
    "    return a * np.exp(-b * (25.15-x)) + c\n",
    "\n",
    "params, params_covariance = optimize.curve_fit(test_func, sigthet_125_130_nn, fre_11_125_130_nn,\n",
    "                                               p0=[1, -0.05, -25.15])\n",
    "params0 = params[0]\n",
    "params1 = params[1]\n",
    "params2 = params[2]\n",
    "print(params0)\n",
    "print(params1)\n",
    "print(params2)\n",
    "\n",
    "pycnal_forfunc_11 = np.arange(22,27,0.01)\n",
    "pycnal_age_fromfunc_11 = params0 *np.exp(-params1*(25.15-pycnal_forfunc_11))+params2\n",
    "\n",
    "\n",
    "params, params_covariance = optimize.curve_fit(test_func, sigthet_125_130_nn, fre_12_125_130_nn,\n",
    "                                               p0=[1, -0.05, -25.15])\n",
    "params0 = params[0]\n",
    "params1 = params[1]\n",
    "params2 = params[2]\n",
    "print(params0)\n",
    "print(params1)\n",
    "print(params2)\n",
    "\n",
    "pycnal_forfunc_12 = np.arange(22,27,0.01)\n",
    "pycnal_age_fromfunc_12 = params0 *np.exp(-params1*(25.15-pycnal_forfunc_12))+params2\n"
   ]
  },
  {
   "cell_type": "code",
   "execution_count": 27,
   "metadata": {},
   "outputs": [
    {
     "data": {
      "text/plain": [
       "<matplotlib.legend.Legend at 0x7fe45c1fce90>"
      ]
     },
     "execution_count": 27,
     "metadata": {},
     "output_type": "execute_result"
    },
    {
     "data": {
      "image/png": "[encoded data removed]",
      "text/plain": [
       "<Figure size 432x288 with 1 Axes>"
      ]
     },
     "metadata": {
      "needs_background": "light"
     },
     "output_type": "display_data"
    }
   ],
   "source": [
    "plt.plot(sigthet_125_130,fre_11_125_130,'b*', label = '(long>-130) & (long<-125), - freon 11 ')\n",
    "plt.plot(sigthet_125_130,fre_12_125_130,'r*', label = '(long>-130) & (long<-125), - freon 12 ')\n",
    "plt.plot(pycnal_forfunc_11,pycnal_age_fromfunc_11, 'b-', label = 'freon 11 derived age')\n",
    "plt.plot(pycnal_forfunc_12,pycnal_age_fromfunc_12, 'r-', label = 'freon 12 derived age')\n",
    "plt.ylim([0,100])\n",
    "plt.legend(bbox_to_anchor = [0.8, 1])\n"
   ]
  },
  {
   "cell_type": "code",
   "execution_count": 28,
   "metadata": {},
   "outputs": [
    {
     "name": "stdout",
     "output_type": "stream",
     "text": [
      "this one\n"
     ]
    }
   ],
   "source": [
    "print('this one')"
   ]
  },
  {
   "cell_type": "code",
   "execution_count": 29,
   "metadata": {},
   "outputs": [
    {
     "name": "stdout",
     "output_type": "stream",
     "text": [
      "0.1301889490932413\n",
      "3.8509914822057825\n",
      "8.301166081413104\n"
     ]
    },
    {
     "data": {
      "text/plain": [
       "<matplotlib.legend.Legend at 0x7fe45c1b9ed0>"
      ]
     },
     "execution_count": 29,
     "metadata": {},
     "output_type": "execute_result"
    },
    {
     "data": {
      "image/png": "[encoded data removed]",
      "text/plain": [
       "<Figure size 432x288 with 1 Axes>"
      ]
     },
     "metadata": {
      "needs_background": "light"
     },
     "output_type": "display_data"
    }
   ],
   "source": [
    "zeta = 25.15\n",
    "sigthet_125_135 = sigthet[(long>-135) & (long<-125) & (sigthet <27)]\n",
    "fre_11_125_135 = fre_11[(long>-135) & (long<-125) & (sigthet <27)]\n",
    "fre_12_125_135 = fre_12[(long>-135) & (long<-125) & (sigthet <27)]\n",
    "\n",
    "fre_12_125_135_nn = fre_12_125_135[~isnan(fre_11_125_135) & ~isnan(sigthet_125_135) & ~isnan(fre_12_125_135) ]\n",
    "fre_11_125_135_nn = fre_11_125_135[~isnan(fre_11_125_135) & ~isnan(sigthet_125_135) & ~isnan(fre_12_125_135) ]\n",
    "sigthet_125_135_nn = sigthet_125_135[~isnan(fre_11_125_135) & ~isnan(sigthet_125_135) & ~isnan(fre_12_125_135)]\n",
    "\n",
    "def test_func(x, a, b, c):\n",
    "    return a * np.exp(-b * (zeta-x)) + c\n",
    "\n",
    "params, params_covariance = optimize.curve_fit(test_func, sigthet_125_135_nn, fre_11_125_135_nn,\n",
    "                                               p0=[1, -0.05, -25.15])\n",
    "params0 = params[0]\n",
    "params1 = params[1]\n",
    "params2 = params[2]\n",
    "print(params0)\n",
    "print(params1)\n",
    "print(params2)\n",
    "\n",
    "pycnal_forfunc_11 = np.arange(22,27,0.01)\n",
    "pycnal_age_fromfunc_11 = params0 *np.exp(-params1*(25.15-pycnal_forfunc_11))+params2\n",
    "\n",
    "sigthet_125_135 = sigthet[(long>-135) & (long<-125) & (sigthet <27)]\n",
    "fre_11_125_135 = fre_11[(long>-135) & (long<-125) & (sigthet <27)]\n",
    "fre_12_125_135 = fre_12[(long>-135) & (long<-125) & (sigthet <27)]\n",
    "\n",
    "fre_12_125_135_nn = fre_12_125_135[~isnan(fre_11_125_135) & ~isnan(sigthet_125_135) & ~isnan(fre_12_125_135) ]\n",
    "fre_11_125_135_nn = fre_11_125_135[~isnan(fre_11_125_135) & ~isnan(sigthet_125_135) & ~isnan(fre_12_125_135) ]\n",
    "sigthet_125_135_nn = sigthet_125_135[~isnan(fre_11_125_135) & ~isnan(sigthet_125_135) & ~isnan(fre_12_125_135)]\n",
    "\n",
    "plt.plot(sigthet_125_135,fre_11_125_135,'b*', label = '(long>-135) & (long<-125), - freon 11 ')\n",
    "plt.plot(sigthet_125_135,fre_12_125_135,'r*', label = '(long>-135) & (long<-125), - freon 12 ')\n",
    "plt.plot(pycnal_forfunc_11,pycnal_age_fromfunc_11, 'b-', label = 'freon 11 derived age')\n",
    "#plt.plot(pycnal_forfunc_12,pycnal_age_fromfunc_12, 'r-', label = 'freon 12 derived age')\n",
    "plt.ylim([0,100])\n",
    "plt.legend(bbox_to_anchor = [0.8, 1])\n"
   ]
  },
  {
   "cell_type": "code",
   "execution_count": 31,
   "metadata": {},
   "outputs": [
    {
     "name": "stdout",
     "output_type": "stream",
     "text": [
      "0.1301889490932413\n",
      "3.8509914822057825\n",
      "8.301166081413104\n"
     ]
    },
    {
     "data": {
      "text/plain": [
       "Text(0.5, 0, '$\\\\sigma_{\\\\theta}$ (kg m$^{-3}$)')"
      ]
     },
     "execution_count": 31,
     "metadata": {},
     "output_type": "execute_result"
    },
    {
     "data": {
      "image/png": "[encoded data removed]",
      "text/plain": [
       "<Figure size 432x288 with 1 Axes>"
      ]
     },
     "metadata": {
      "needs_background": "light"
     },
     "output_type": "display_data"
    }
   ],
   "source": [
    "zeta = 25.15\n",
    "sigthet_125_135 = sigthet[(long>-135) & (long<-125) & (sigthet <27)]\n",
    "fre_11_125_135 = fre_11[(long>-135) & (long<-125) & (sigthet <27)]\n",
    "fre_12_125_135 = fre_12[(long>-135) & (long<-125) & (sigthet <27)]\n",
    "\n",
    "fre_12_125_135_nn = fre_12_125_135[~isnan(fre_11_125_135) & ~isnan(sigthet_125_135) & ~isnan(fre_12_125_135) ]\n",
    "fre_11_125_135_nn = fre_11_125_135[~isnan(fre_11_125_135) & ~isnan(sigthet_125_135) & ~isnan(fre_12_125_135) ]\n",
    "sigthet_125_135_nn = sigthet_125_135[~isnan(fre_11_125_135) & ~isnan(sigthet_125_135) & ~isnan(fre_12_125_135)]\n",
    "\n",
    "def test_func(x, a, b, c):\n",
    "    return a * np.exp(-b * (zeta-x)) + c\n",
    "\n",
    "params, params_covariance = optimize.curve_fit(test_func, sigthet_125_135_nn, fre_11_125_135_nn,\n",
    "                                               p0=[1, -0.05, -25.15])\n",
    "params0 = params[0]\n",
    "params1 = params[1]\n",
    "params2 = params[2]\n",
    "print(params0)\n",
    "print(params1)\n",
    "print(params2)\n",
    "\n",
    "pycnal_forfunc_11 = np.arange(22,27,0.01)\n",
    "pycnal_age_fromfunc_11 = params0 *np.exp(-params1*(25.15-pycnal_forfunc_11))+params2\n",
    "\n",
    "sigthet_125_135 = sigthet[(long>-135) & (long<-125) & (sigthet <27)]\n",
    "fre_11_125_135 = fre_11[(long>-135) & (long<-125) & (sigthet <27)]\n",
    "fre_12_125_135 = fre_12[(long>-135) & (long<-125) & (sigthet <27)]\n",
    "\n",
    "fre_12_125_135_nn = fre_12_125_135[~isnan(fre_11_125_135) & ~isnan(sigthet_125_135) & ~isnan(fre_12_125_135) ]\n",
    "fre_11_125_135_nn = fre_11_125_135[~isnan(fre_11_125_135) & ~isnan(sigthet_125_135) & ~isnan(fre_12_125_135) ]\n",
    "sigthet_125_135_nn = sigthet_125_135[~isnan(fre_11_125_135) & ~isnan(sigthet_125_135) & ~isnan(fre_12_125_135)]\n",
    "\n",
    "\n",
    "fig = plt.figure(figsize=(6,4))\n",
    "\n",
    "ax = fig.add_subplot(1,1,1)\n",
    "        \n",
    "ax.plot(sigthet_125_135,fre_11_125_135,'b*', label = '(long>-135) & (long<-125), - freon 11 ')\n",
    "#ax.plot(sigthet_125_135,fre_12_125_135,'r*', label = '(long>-135) & (long<-125), - freon 12 ')\n",
    "ax.plot(pycnal_forfunc_11,pycnal_age_fromfunc_11, 'b-', label = 'freon 11 derived age')\n",
    "ax.tick_params(axis='both', which='major', labelsize=16)\n",
    "ax.set_ylabel('age of water (years)', fontsize = 16)\n",
    "ax.set_xlabel('$\\sigma_{\\\\theta}$ (kg m$^{-3}$)', fontsize = 16)"
   ]
  },
  {
   "cell_type": "code",
   "execution_count": null,
   "metadata": {},
   "outputs": [],
   "source": []
  }
 ],
 "metadata": {
  "kernelspec": {
   "display_name": "Python 3",
   "language": "python",
   "name": "python3"
  },
  "language_info": {
   "codemirror_mode": {
    "name": "ipython",
    "version": 3
   },
   "file_extension": ".py",
   "mimetype": "text/x-python",
   "name": "python",
   "nbconvert_exporter": "python",
   "pygments_lexer": "ipython3",
   "version": "3.7.4"
  }
 },
 "nbformat": 4,
 "nbformat_minor": 2
}
